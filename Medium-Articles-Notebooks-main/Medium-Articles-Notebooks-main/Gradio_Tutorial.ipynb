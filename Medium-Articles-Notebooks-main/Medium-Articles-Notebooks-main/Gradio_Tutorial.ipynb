{
  "nbformat": 4,
  "nbformat_minor": 0,
  "metadata": {
    "colab": {
      "name": "Gradio_Tutorial.ipynb",
      "provenance": []
    },
    "kernelspec": {
      "name": "python3",
      "display_name": "Python 3"
    },
    "language_info": {
      "name": "python"
    }
  },
  "cells": [
    {
      "cell_type": "markdown",
      "source": [
        "# Your Time Is Precious - Use Gradio For Building Your Machine Learning Prototypes \n",
        "> https://zoumanakeita.medium.com/\n"
      ],
      "metadata": {
        "id": "BkKvYSLrrHYI"
      }
    },
    {
      "cell_type": "code",
      "execution_count": 24,
      "metadata": {
        "id": "Wt4Udm2cPVhV"
      },
      "outputs": [],
      "source": [
        "# used to not show the installation messages\n",
        "%%capture \n",
        "\n",
        "# Install & import gradio \n",
        "!pip install gradio\n",
        "\n",
        "import gradio as gr"
      ]
    },
    {
      "cell_type": "code",
      "source": [
        "# The Hello Function\n",
        "def show_message(user_sentence):\n",
        "\n",
        "  return \"Your wrote: {}\".format(user_sentence)\n",
        "\n",
        "# The UI implementation\n",
        "iface = gr.Interface(fn=show_message, inputs=\"text\", outputs=\"text\")\n",
        "iface.launch()"
      ],
      "metadata": {
        "colab": {
          "base_uri": "https://localhost:8080/",
          "height": 643
        },
        "id": "qJ-tBNN1QDIN",
        "outputId": "865b1764-78ec-4589-b601-f73dcd20c334"
      },
      "execution_count": 28,
      "outputs": [
        {
          "output_type": "stream",
          "name": "stdout",
          "text": [
            "Colab notebook detected. To show errors in colab notebook, set `debug=True` in `launch()`\n",
            "Running on public URL: https://45454.gradio.app\n",
            "\n",
            "This share link expires in 72 hours. For free permanent hosting, check out Spaces (https://huggingface.co/spaces)\n"
          ]
        },
        {
          "output_type": "display_data",
          "data": {
            "text/plain": [
              "<IPython.lib.display.IFrame at 0x7f697dbdd0d0>"
            ],
            "text/html": [
              "\n",
              "        <iframe\n",
              "            width=\"900\"\n",
              "            height=\"500\"\n",
              "            src=\"https://45454.gradio.app\"\n",
              "            frameborder=\"0\"\n",
              "            allowfullscreen\n",
              "        ></iframe>\n",
              "        "
            ]
          },
          "metadata": {}
        },
        {
          "output_type": "execute_result",
          "data": {
            "text/plain": [
              "(<fastapi.applications.FastAPI at 0x7f69b374e150>,\n",
              " 'http://127.0.0.1:7878/',\n",
              " 'https://45454.gradio.app')"
            ]
          },
          "metadata": {},
          "execution_count": 28
        }
      ]
    },
    {
      "cell_type": "code",
      "source": [
        "headline = \"From Sentence to Sentiment\"\n",
        "logo_URL = \"https://gradio.app/assets/img/logo.svg\"\n",
        "image = \"<center> <img src= {} width=200px></center>\".format(logo_URL)\n",
        "\n",
        "iface = gr.Interface(fn=show_message, inputs=\"text\", outputs=\"text\", title = headline)\n",
        "iface.launch()"
      ],
      "metadata": {
        "colab": {
          "base_uri": "https://localhost:8080/",
          "height": 643
        },
        "id": "4K7KJ3MFR3aU",
        "outputId": "efe0f18a-4979-4075-ceb1-434fe9947bac"
      },
      "execution_count": 30,
      "outputs": [
        {
          "output_type": "stream",
          "name": "stdout",
          "text": [
            "Colab notebook detected. To show errors in colab notebook, set `debug=True` in `launch()`\n",
            "Running on public URL: https://35972.gradio.app\n",
            "\n",
            "This share link expires in 72 hours. For free permanent hosting, check out Spaces (https://huggingface.co/spaces)\n"
          ]
        },
        {
          "output_type": "display_data",
          "data": {
            "text/plain": [
              "<IPython.lib.display.IFrame at 0x7f697e8e9e90>"
            ],
            "text/html": [
              "\n",
              "        <iframe\n",
              "            width=\"900\"\n",
              "            height=\"500\"\n",
              "            src=\"https://35972.gradio.app\"\n",
              "            frameborder=\"0\"\n",
              "            allowfullscreen\n",
              "        ></iframe>\n",
              "        "
            ]
          },
          "metadata": {}
        },
        {
          "output_type": "execute_result",
          "data": {
            "text/plain": [
              "(<fastapi.applications.FastAPI at 0x7f69b374e150>,\n",
              " 'http://127.0.0.1:7880/',\n",
              " 'https://35972.gradio.app')"
            ]
          },
          "metadata": {},
          "execution_count": 30
        }
      ]
    },
    {
      "cell_type": "code",
      "source": [
        "logo_URL = \"https://gradio.app/assets/img/logo.svg\"\n",
        "image = \"<center> <img src= {} width=200px></center>\".format(logo_URL)\n",
        "\n",
        "iface = gr.Interface(fn=show_message, inputs=\"text\", outputs=\"text\", \n",
        "                     title = headline, description = image)\n",
        "iface.launch()"
      ],
      "metadata": {
        "colab": {
          "base_uri": "https://localhost:8080/",
          "height": 643
        },
        "id": "kIuNJdsG9hzE",
        "outputId": "6a54f5e6-c5fe-4035-edb9-295e98df32e0"
      },
      "execution_count": 31,
      "outputs": [
        {
          "output_type": "stream",
          "name": "stdout",
          "text": [
            "Colab notebook detected. To show errors in colab notebook, set `debug=True` in `launch()`\n",
            "Running on public URL: https://43336.gradio.app\n",
            "\n",
            "This share link expires in 72 hours. For free permanent hosting, check out Spaces (https://huggingface.co/spaces)\n"
          ]
        },
        {
          "output_type": "display_data",
          "data": {
            "text/plain": [
              "<IPython.lib.display.IFrame at 0x7f697dc27490>"
            ],
            "text/html": [
              "\n",
              "        <iframe\n",
              "            width=\"900\"\n",
              "            height=\"500\"\n",
              "            src=\"https://43336.gradio.app\"\n",
              "            frameborder=\"0\"\n",
              "            allowfullscreen\n",
              "        ></iframe>\n",
              "        "
            ]
          },
          "metadata": {}
        },
        {
          "output_type": "execute_result",
          "data": {
            "text/plain": [
              "(<fastapi.applications.FastAPI at 0x7f69b374e150>,\n",
              " 'http://127.0.0.1:7881/',\n",
              " 'https://43336.gradio.app')"
            ]
          },
          "metadata": {},
          "execution_count": 31
        }
      ]
    },
    {
      "cell_type": "code",
      "source": [
        "import joblib\n",
        "\n",
        "# Load the model\n",
        "spam_clf = joblib.load(open('./sample_data/spam_detector_model.pkl','rb'))\n",
        "\n",
        "# Load vectorizer\n",
        "vectorizer = joblib.load(open('./sample_data/vectorizer.pickle', 'rb'))"
      ],
      "metadata": {
        "colab": {
          "base_uri": "https://localhost:8080/"
        },
        "id": "iOdPSkT6CVB5",
        "outputId": "7e6c0b91-b8e5-4005-caaa-3520394595f7"
      },
      "execution_count": null,
      "outputs": [
        {
          "output_type": "stream",
          "name": "stderr",
          "text": [
            "/usr/local/lib/python3.7/dist-packages/sklearn/base.py:338: UserWarning: Trying to unpickle estimator MultinomialNB from version 0.24.2 when using version 1.0.2. This might lead to breaking code or invalid results. Use at your own risk. For more info please refer to:\n",
            "https://scikit-learn.org/stable/modules/model_persistence.html#security-maintainability-limitations\n",
            "  UserWarning,\n",
            "/usr/local/lib/python3.7/dist-packages/sklearn/base.py:338: UserWarning: Trying to unpickle estimator CountVectorizer from version 0.24.2 when using version 1.0.2. This might lead to breaking code or invalid results. Use at your own risk. For more info please refer to:\n",
            "https://scikit-learn.org/stable/modules/model_persistence.html#security-maintainability-limitations\n",
            "  UserWarning,\n"
          ]
        }
      ]
    },
    {
      "cell_type": "code",
      "source": [
        "def make_prediction(user_sentence):\n",
        "  \n",
        "  prediction = spam_clf.predict(vectorizer.transform([user_sentence]))\n",
        "  info = ''\n",
        "\n",
        "  if(prediction[0] == 0):\n",
        "    info = 'Ham'\n",
        "\n",
        "  else:\n",
        "    info = 'Spam'\n",
        "\n",
        "  return info"
      ],
      "metadata": {
        "id": "gKTNpUj7NQ5J"
      },
      "execution_count": 32,
      "outputs": []
    },
    {
      "cell_type": "code",
      "source": [
        "iface = gr.Interface(fn=make_prediction, inputs=\"text\", outputs=\"text\", \n",
        "                     title = headline, description = image)\n",
        "iface.launch()"
      ],
      "metadata": {
        "colab": {
          "base_uri": "https://localhost:8080/",
          "height": 643
        },
        "id": "95GmIXOvNsg5",
        "outputId": "3382f5bd-062b-4034-a2eb-91bfea25b839"
      },
      "execution_count": 34,
      "outputs": [
        {
          "output_type": "stream",
          "name": "stdout",
          "text": [
            "Colab notebook detected. To show errors in colab notebook, set `debug=True` in `launch()`\n",
            "Running on public URL: https://24142.gradio.app\n",
            "\n",
            "This share link expires in 72 hours. For free permanent hosting, check out Spaces (https://huggingface.co/spaces)\n"
          ]
        },
        {
          "output_type": "display_data",
          "data": {
            "text/plain": [
              "<IPython.lib.display.IFrame at 0x7f697dca8090>"
            ],
            "text/html": [
              "\n",
              "        <iframe\n",
              "            width=\"900\"\n",
              "            height=\"500\"\n",
              "            src=\"https://24142.gradio.app\"\n",
              "            frameborder=\"0\"\n",
              "            allowfullscreen\n",
              "        ></iframe>\n",
              "        "
            ]
          },
          "metadata": {}
        },
        {
          "output_type": "execute_result",
          "data": {
            "text/plain": [
              "(<fastapi.applications.FastAPI at 0x7f69b374e150>,\n",
              " 'http://127.0.0.1:7883/',\n",
              " 'https://24142.gradio.app')"
            ]
          },
          "metadata": {},
          "execution_count": 34
        }
      ]
    },
    {
      "cell_type": "code",
      "source": [
        ""
      ],
      "metadata": {
        "id": "XZ6iMIYGNvkv"
      },
      "execution_count": null,
      "outputs": []
    }
  ]
}